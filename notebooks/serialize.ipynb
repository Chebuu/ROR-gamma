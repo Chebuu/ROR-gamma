{
 "cells": [
  {
   "cell_type": "code",
   "execution_count": 1,
   "metadata": {},
   "outputs": [],
   "source": [
    "from os import path"
   ]
  },
  {
   "cell_type": "code",
   "execution_count": null,
   "metadata": {},
   "outputs": [],
   "source": [
    "def _to_feather(dset, fname):\n",
    "    dframe = pd.DataFrame(dset)\n",
    "    dframe.to_feather(path)\n",
    "    \n",
    "def _to_pickle(dset, fname):\n",
    "    dframe = pd.DataFrame(dset)\n",
    "    dframe.to_pickle(fname)"
   ]
  },
  {
   "cell_type": "code",
   "execution_count": 23,
   "metadata": {},
   "outputs": [],
   "source": [
    "formats = {\n",
    "    'csv': {\n",
    "        'ext':'.csv',\n",
    "        'method': None\n",
    "    },\n",
    "    'pickle' : {\n",
    "        'ext': '.pickle',\n",
    "        'method': _to_pickle\n",
    "    },\n",
    "    'feather' : {\n",
    "        'ext': '.feather',\n",
    "        'method': _to_feather\n",
    "    }\n",
    "}\n",
    "\n",
    "def _filename(filename, asformat):\n",
    "    ex = formats[asformat]['ext']\n",
    "    _,ux = path.splitext(filename)\n",
    "    return filename + ext if ux is '' else filename\n",
    "    \n",
    "def serialize(dataset, filename, filepath='', asformat='feather'):\n",
    "    ext = formats[asformat]['ext']\n",
    "    mtd = formats[asformat]['method']\n",
    "    rlp = path.normpath(filepath + '/./' + filename)\n",
    "    fnm = _filename(rlp)\n",
    "    return mnm(dataset, fnm)"
   ]
  }
 ],
 "metadata": {
  "kernelspec": {
   "display_name": "Python 3",
   "language": "python",
   "name": "python3"
  },
  "language_info": {
   "codemirror_mode": {
    "name": "ipython",
    "version": 3
   },
   "file_extension": ".py",
   "mimetype": "text/x-python",
   "name": "python",
   "nbconvert_exporter": "python",
   "pygments_lexer": "ipython3",
   "version": "3.6.6"
  }
 },
 "nbformat": 4,
 "nbformat_minor": 4
}
