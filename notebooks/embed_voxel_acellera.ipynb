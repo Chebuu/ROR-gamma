{
 "cells": [
  {
   "cell_type": "code",
   "execution_count": null,
   "metadata": {},
   "outputs": [],
   "source": [
    "from moleculekit.smallmol.smallmol import SmallMol\n",
    "from moleculekit.tools.voxeldescriptors import getVoxelDescriptors"
   ]
  },
  {
   "cell_type": "code",
   "execution_count": null,
   "metadata": {},
   "outputs": [],
   "source": [
    "def _isSmallMol(x):\n",
    "    return type(x).__name__ is 'SmallMol'\n",
    "\n",
    "def _asSmallMol(x):\n",
    "    smol = x if _isSmallMol(x) else SmallMol(x)\n",
    "    if smol.numFrames < 1: smol.generateConformers(1) \n",
    "    return smol\n",
    "\n",
    "def embed_voxel(smol, nchannels, vargs):\n",
    "    # smol (i) Rdkit molecule or (ii) Location of molecule file (“.pdb”/”.mol2”) or (iii) a smile string or iv) another SmallMol object or v) moleculekit.molecule.Molecule object\n",
    "    lig = _asSmallMol(smol)\n",
    "    lig_vox, lig_centers, lig_N = getVoxelDescriptors(lig, **vargs)\n",
    "    return lig_vox.transpose().reshape([1, nchannels, lig_N[0], lig_N[1], lig_N[2]])\n",
    "\n",
    "def embed_voxel_simple(smol, nchannels, boxsize, center, voxelsize):\n",
    "    # smol (i) Rdkit molecule or (ii) Location of molecule file (“.pdb”/”.mol2”) or (iii) a smile string or iv) another SmallMol object or v) moleculekit.molecule.Molecule object\n",
    "    lig = _asSmallMol(smol)\n",
    "    lig_vox, lig_centers, lig_N = getVoxelDescriptors(lig, boxsize=boxsize, center=center, voxelsize=voxelsize)\n",
    "    return lig_vox.transpose().reshape([1, nchannels, lig_N[0], lig_N[1], lig_N[2]])\n",
    "\n",
    "def embed_voxel_conformers(smol, cargs, vargs):\n",
    "    # smol (i) Rdkit molecule or (ii) Location of molecule file (“.pdb”/”.mol2”) or (iii) a smile string or iv) another SmallMol object or v) moleculekit.molecule.Molecule object\n",
    "    lig = _asSmallMol(smol)\n",
    "    lig.generateConformers(**cargs)\n",
    "    confs = [_asSmallMol(lig.toMolucule(ids=[i])) for i in lig.numFrames]\n",
    "    return [embed_voxel(s, **vargs) for s in confs]"
   ]
  },
  {
   "cell_type": "code",
   "execution_count": null,
   "metadata": {},
   "outputs": [],
   "source": [
    "# # Example\n",
    "# ismi = 'C1=CC=C(C=C1)CNC(=O)NC2=CC=CN(C2=O)CC3=CC=CC=C3Cl'\n",
    "# embed_voxel_simple(ismi, 8, boxsize=[10,10,10], center=[5,5,5], voxelsize=0.5)"
   ]
  }
 ],
 "metadata": {
  "kernelspec": {
   "display_name": "Python 3",
   "language": "python",
   "name": "python3"
  },
  "language_info": {
   "codemirror_mode": {
    "name": "ipython",
    "version": 3
   },
   "file_extension": ".py",
   "mimetype": "text/x-python",
   "name": "python",
   "nbconvert_exporter": "python",
   "pygments_lexer": "ipython3",
   "version": "3.7.1"
  }
 },
 "nbformat": 4,
 "nbformat_minor": 4
}
