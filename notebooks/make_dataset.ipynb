{
 "cells": [
  {
   "cell_type": "code",
   "execution_count": null,
   "metadata": {},
   "outputs": [],
   "source": [
    "import pandas as pd\n",
    "from sklearn.preprocessing import LabelEncoder, OneHotEncoder"
   ]
  },
  {
   "cell_type": "code",
   "execution_count": 52,
   "metadata": {},
   "outputs": [],
   "source": [
    "%run pug.ipynb\n",
    "%run sample.ipynb\n",
    "%run serialze.ipynb\n",
    "%run embed_voxel_acellera.ipynb"
   ]
  },
  {
   "cell_type": "code",
   "execution_count": 3,
   "metadata": {},
   "outputs": [],
   "source": [
    "rorg_results = pd.read_csv('../data/pubchem/AID_2551_datatable_all.csv', low_memory=False)"
   ]
  },
  {
   "cell_type": "code",
   "execution_count": 4,
   "metadata": {},
   "outputs": [],
   "source": [
    "rorg_results = rorg_results[4:].dropna(subset=['PUBCHEM_CID', 'PUBCHEM_SID'])\n",
    "rorg_results = rorg_results[['PUBCHEM_CID', 'PUBCHEM_ACTIVITY_OUTCOME', 'Phenotype', 'Max_Response']]\n",
    "rorg_results.PUBCHEM_CID = rorg_results.PUBCHEM_CID.astype(int)"
   ]
  },
  {
   "cell_type": "code",
   "execution_count": 5,
   "metadata": {},
   "outputs": [],
   "source": [
    "samp_frac_outcome = {'PUBCHEM_ACTIVITY_OUTCOME':{'Active':.5, 'Inactive':.5}}\n",
    "rorg_outcome = sample_frac_max(rorg_results[['PUBCHEM_CID', 'PUBCHEM_ACTIVITY_OUTCOME']], samp_frac_outcome)"
   ]
  },
  {
   "cell_type": "code",
   "execution_count": 6,
   "metadata": {},
   "outputs": [],
   "source": [
    "samp_frac_phenotype = {'Phenotype':{'Activator':.33, 'Inhibitor':.33, 'Inactive':.33}}\n",
    "rorg_phenotype = sample_frac_max(rorg_results[['PUBCHEM_CID', 'Phenotype']], samp_frac_phenotype)"
   ]
  },
  {
   "cell_type": "code",
   "execution_count": 7,
   "metadata": {},
   "outputs": [],
   "source": [
    "unq_cids = pd.concat([rorg_phenotype.PUBCHEM_CID, rorg_outcome.PUBCHEM_CID]).drop_duplicates()\n",
    "unq_smis = fetchISMILES(unq_cids)"
   ]
  },
  {
   "cell_type": "code",
   "execution_count": 8,
   "metadata": {},
   "outputs": [],
   "source": [
    "unq_smis.PUBCHEM_CID = unq_smis.PUBCHEM_CID.astype(int)\n",
    "rorg_outcome = pd.merge(rorg_outcome, unq_smis, on='PUBCHEM_CID', how='left')\n",
    "rorg_phenotype = pd.merge(rorg_phenotype, unq_smis, on='PUBCHEM_CID', how='left')"
   ]
  },
  {
   "cell_type": "code",
   "execution_count": 60,
   "metadata": {},
   "outputs": [],
   "source": [
    "lab_encode = LabelEncoder()\n",
    "rorg_outcome['Y_LABEL'] = lab_encode.fit_transform(rorg_outcome.PUBCHEM_ACTIVITY_OUTCOME)\n",
    "rorg_phenotype['Y_LABEL'] = lab_encode.fit_transform(rorg_phenotype.Phenotype)"
   ]
  },
  {
   "cell_type": "code",
   "execution_count": 65,
   "metadata": {},
   "outputs": [],
   "source": [
    "one_encode = OneHotEncoder()\n",
    "rorg_outcome['Y_ONEHOT'] = one_encode.fit_transform(rorg_outcome.PUBCHEM_ACTIVITY_OUTCOME.to_numpy().reshape(1,-1))\n",
    "rorg_phenotype['Y_ONEHOT'] = one_encode.fit_transform(rorg_phenotype.Phenotype.to_numpy().reshape(1,-1))"
   ]
  },
  {
   "cell_type": "code",
   "execution_count": null,
   "metadata": {},
   "outputs": [],
   "source": [
    "label_indices = ['Y_LABEL', 'Y_ONEHOT', 'PUBCHEM_CID', 'ISOMERIC_SMILES']\n",
    "\n",
    "outcome_labels = rorg_outcome[label_indices].to_numpy()\n",
    "outcome_grids = voxelize(rorg_outcome.ISOMERIC_SMILES, nconformers=6)\n",
    "outcome_x, outcome_y = expand_conformers_and_labels(outcome_grids, outcome_labels)\n",
    "\n",
    "phenotype_labels = rorg_phenotype[label_indices].to_numpy()\n",
    "phenotype_grids = voxelize(rorg_phenotype.ISOMERIC_SMILES, nconformers=20)\n",
    "phenotype_x, phenotype_y = expand_conformers_and_labels(phenotype_grids, phenotype_labels)"
   ]
  },
  {
   "cell_type": "code",
   "execution_count": null,
   "metadata": {},
   "outputs": [],
   "source": [
    "serialize(outcome_x, 'outcome_x', 'data/datasets', 'feather')\n",
    "serialize(outcome_y, 'outcome_y', 'data/datasets', 'feather')\n",
    "\n",
    "serialize(phenotype_x, 'phenotype_x', 'data/datasets', 'feather')\n",
    "serialize(phenotype_y, 'phenotype_y', 'data/datasets', 'feather')"
   ]
  }
 ],
 "metadata": {
  "kernelspec": {
   "display_name": "Python 3",
   "language": "python",
   "name": "python3"
  },
  "language_info": {
   "codemirror_mode": {
    "name": "ipython",
    "version": 3
   },
   "file_extension": ".py",
   "mimetype": "text/x-python",
   "name": "python",
   "nbconvert_exporter": "python",
   "pygments_lexer": "ipython3",
   "version": "3.6.6"
  }
 },
 "nbformat": 4,
 "nbformat_minor": 4
}
