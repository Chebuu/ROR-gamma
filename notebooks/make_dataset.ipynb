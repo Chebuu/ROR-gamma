{
 "cells": [
  {
   "cell_type": "code",
   "execution_count": null,
   "metadata": {},
   "outputs": [],
   "source": [
    "import pandas as pd\n",
    "from pubchempy import Compound\n",
    "from sklearn.preprocessing import LabelEncoder"
   ]
  },
  {
   "cell_type": "code",
   "execution_count": null,
   "metadata": {},
   "outputs": [],
   "source": [
    "%run sample.ipynb\n",
    "%run pug.ipynb\n",
    "%run embed_voxel_acellera.ipynb"
   ]
  },
  {
   "cell_type": "code",
   "execution_count": null,
   "metadata": {},
   "outputs": [],
   "source": [
    "rorg_results = pd.read_csv('../data/pubchem/AID_2551_datatable_all.csv', low_memory=False)"
   ]
  },
  {
   "cell_type": "code",
   "execution_count": null,
   "metadata": {},
   "outputs": [],
   "source": [
    "rorg_results = rorg_results[4:].dropna(subset=['PUBCHEM_CID', 'PUBCHEM_SID'])\n",
    "rorg_results = rorg_results[['PUBCHEM_CID', 'PUBCHEM_ACTIVITY_OUTCOME', 'Phenotype', 'Max_Response']]\n",
    "rorg_results.PUBCHEM_CID = rorg_results.PUBCHEM_CID.astype(int)"
   ]
  },
  {
   "cell_type": "code",
   "execution_count": null,
   "metadata": {},
   "outputs": [],
   "source": [
    "samp_frac_outcome = {'PUBCHEM_ACTIVITY_OUTCOME':{'Active':.5, 'Inactive':.5}}\n",
    "rorg_outcome = sample_frac_max(rorg_results[['PUBCHEM_CID', 'PUBCHEM_ACTIVITY_OUTCOME']], samp_frac_outcome)"
   ]
  },
  {
   "cell_type": "code",
   "execution_count": null,
   "metadata": {},
   "outputs": [],
   "source": [
    "samp_frac_phenotype = {'Phenotype':{'Activator':.33, 'Inhibitor':.33, 'Inactive':.33}}\n",
    "rorg_phenotype = sample_frac_max(rorg_results[['PUBCHEM_CID', 'Phenotype']], samp_frac_phenotype)"
   ]
  },
  {
   "cell_type": "code",
   "execution_count": null,
   "metadata": {},
   "outputs": [],
   "source": [
    "unq_cids = pd.concat([rorg_phenotype.PUBCHEM_CID, rorg_outcome.PUBCHEM_CID]).drop_duplicates()\n",
    "unq_smis = fetchISMILES(unq_cids)"
   ]
  },
  {
   "cell_type": "code",
   "execution_count": null,
   "metadata": {},
   "outputs": [],
   "source": [
    "unq_smis.PUBCHEM_CID = unq_smis.PUBCHEM_CID.astype(int)\n",
    "rorg_outcome = pd.merge(rorg_outcome, unq_smis, on='PUBCHEM_CID', how='left')\n",
    "rorg_phenotype = pd.merge(rorg_phenotype, unq_smis, on='PUBCHEM_CID', how='left')"
   ]
  },
  {
   "cell_type": "code",
   "execution_count": null,
   "metadata": {},
   "outputs": [],
   "source": [
    "lab_encode = LabelEncoder()\n",
    "rorg_outcome['Y_LABEL'] = lab_encode.fit_transform(rorg_outcome.PUBCHEM_ACTIVITY_OUTCOME)\n",
    "rorg_phenotype['Y_LABEL'] = lab_encode.fit_transform(rorg_phenotype.Phenotype)"
   ]
  },
  {
   "cell_type": "code",
   "execution_count": null,
   "metadata": {},
   "outputs": [],
   "source": [
    "outcome_grid = voxelize(rorg_outcome.ISOMERIC_SMILES, nconformers=1)\n",
    "rorg_outcome_X = np.vstack(outcome_grid, axis=1) # TODO:: [UNTESTED] stack conformer dimensions, !!! conformer --> label mappings are lost\n",
    "phenotype_grid = voxelize(rorg_phenotype.ISOMERIC_SMILES, nconformers=2)\n",
    "rorg_phenotype_X = np.vstack(phenotype_grid, axis=1) # TODO:: [UNTESTED] stack conformer dimensions, !!! conformer --> label mappings are lost"
   ]
  }
 ],
 "metadata": {
  "kernelspec": {
   "display_name": "Python 3",
   "language": "python",
   "name": "python3"
  },
  "language_info": {
   "codemirror_mode": {
    "name": "ipython",
    "version": 3
   },
   "file_extension": ".py",
   "mimetype": "text/x-python",
   "name": "python",
   "nbconvert_exporter": "python",
   "pygments_lexer": "ipython3",
   "version": "3.6.6"
  }
 },
 "nbformat": 4,
 "nbformat_minor": 4
}
