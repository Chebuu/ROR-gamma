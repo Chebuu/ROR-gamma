{
 "cells": [
  {
   "cell_type": "code",
   "execution_count": null,
   "metadata": {},
   "outputs": [],
   "source": [
    "from requests import post\n",
    "from bs4 import BeautifulSoup"
   ]
  },
  {
   "cell_type": "code",
   "execution_count": null,
   "metadata": {},
   "outputs": [],
   "source": [
    "def fetch_data():\n",
    "    pass # 'AID_2551_datatable_all.csv'"
   ]
  },
  {
   "cell_type": "code",
   "execution_count": null,
   "metadata": {},
   "outputs": [],
   "source": [
    "def fetch_ISMILES(cids):\n",
    "    url = 'https://pubchem.ncbi.nlm.nih.gov/rest/pug/compound/cid/property/IsomericSMILES/XML'\n",
    "    headers = {'Content-Type': 'application/x-www-form-urlencoded'}\n",
    "    body = {'cid': ','.join([str(i) for i in cids])}\n",
    "    res = post(url=url, headers=headers, data=body)\n",
    "    doc = BeautifulSoup(res.text)\n",
    "    table = doc.propertytable\n",
    "    props = table.find_all('properties')\n",
    "    data = [(p.cid.text, p.isomericsmiles.text) for p in props]\n",
    "    return pd.DataFrame(data, columns=['PUBCHEM_CID', 'ISOMERIC_SMILES'])\n"
   ]
  }
 ],
 "metadata": {
  "kernelspec": {
   "display_name": "Python 3",
   "language": "python",
   "name": "python3"
  },
  "language_info": {
   "codemirror_mode": {
    "name": "ipython",
    "version": 3
   },
   "file_extension": ".py",
   "mimetype": "text/x-python",
   "name": "python",
   "nbconvert_exporter": "python",
   "pygments_lexer": "ipython3",
   "version": "3.6.6"
  }
 },
 "nbformat": 4,
 "nbformat_minor": 4
}
