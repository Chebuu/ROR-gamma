{
 "cells": [
  {
   "cell_type": "code",
   "execution_count": 2,
   "metadata": {},
   "outputs": [],
   "source": [
    "from openeye.oechem import OEGraphMol, OESmilesToMol\n",
    "def smi_to_graphmol(smi):\n",
    "    # smi <str>\n",
    "    mol = OEGraphMol()\n",
    "    stat = OESmilesToMol(mol, smi)\n",
    "    return mol if stat else False\n",
    "\n",
    "def prep_mol(mol):\n",
    "    OECenter(mol)\n",
    "\n",
    "def apply_to_mol(mol, funcs, verbose=True):\n",
    "#    # funcs --> https://docs.eyesopen.com/toolkits/python/oechemtk/OEChemFunctions/index.html\n",
    "#    # ??? Allow assignmnet where asgn = {'some name': lambda x: x} mol.SetData(asgn.keys(i)) = asgn(mol)\n",
    "    pass\n",
    "    for fxn in funcs:\n",
    "        err = 'Error applying function %s to %s' % (fxn.__name__, mol.__name__)\n",
    "        if verbose and not fxn(mol): print(err) \n",
    "    return mol\n",
    "\n",
    "    "
   ]
  },
  {
   "cell_type": "code",
   "execution_count": 3,
   "metadata": {},
   "outputs": [],
   "source": [
    "def min_grid_volume(mols):\n",
    "#     TODO: use mol.GetMaxConfIdx to calculate largest dims or use mol \"as is\"?\n",
    "#     return (min_x,min_y,min_z)\n",
    "    pass\n",
    "\n",
    "def make_min_grid(mols, grid, padding=[0,0,0]):\n",
    "    # Create an empty grid with ths smallest possible x,y,z dimensions large enough to\n",
    "    # contain every (centered) molecule in mols. Then, add the specified padding\n",
    "    min_x,min_y,min_z = min_grid_volume(mols)\n",
    "    return grid(min_x,min_y,min_z)\n",
    "\n",
    "def make_grid_cext():\n",
    "# Serves the same purpose as make_min_grid()\n",
    "#     OECenter(mol)\n",
    "#     someextens [OEGetCenterAndExtents(mol) for mol in mols]\n",
    "#     OEMakeGridFromCenterAndExtents(max(somextents))\n",
    "    pass"
   ]
  },
  {
   "cell_type": "code",
   "execution_count": null,
   "metadata": {},
   "outputs": [],
   "source": [
    "# My idea of a workflow where the channel list IS NOT passed to the embedding function\n",
    "embeddings = [\n",
    "    {\n",
    "        grid: OEScalarGrid(gargs) # Or make_min_grid((x,y,z), center, padding)\n",
    "        func: lambda atom, mol, grid: atom.GetPartialCharge()\n",
    "    },\n",
    "    {\n",
    "        grid: OEScalarGrid(gargs) # Or make_min_grid((x,y,z), center, padding)\n",
    "        func: lambda atom, mol, grid: OEMakeMolecularGaussianGrid(grid, mol, 0.5)\n",
    "    },\n",
    "    ...\n",
    "]\n",
    "\n",
    "def map_grid(grid, mol, func=lambda atom, mol, grid: atom.GetPartialCharge()):\n",
    "    for atom in mol.GetAtoms():\n",
    "        x,y,z = mol.GetCoords(atom)\n",
    "        if grid.IsInGrid(x, y, z):\n",
    "            grid.SetValue(x, y, z, func(atom, mol, grid))\n",
    "    return grid\n",
    "\n",
    "def embed_grid(mols, embeddings):\n",
    "# Loop over mols and a 3D grid (channel) for each element in embeddings\n",
    "    cols = list()\n",
    "    for mol in mols:\n",
    "        channels = []\n",
    "        for embedding in channel_embeddings:\n",
    "            grid = embedding.grid\n",
    "            func = embedding.func\n",
    "            ebdg = map_grid(grid, mol, func)\n",
    "            channels.append(ebdg)\n",
    "        mol.SetData('channels', channels)\n",
    "        cols.append(mol)\n",
    "    return cols"
   ]
  },
  {
   "cell_type": "code",
   "execution_count": null,
   "metadata": {},
   "outputs": [],
   "source": [
    "# My idea of another workflow (the channel list IS passed to the embedding func\n",
    "channel_embeddings = [\n",
    "    {\n",
    "        grid: OEScalarGrid(gargs) # Or make_min_grid((x,y,z), center, padding)\n",
    "        func: lambda atom, mol, grid, chan: atom.GetPartialCharge()\n",
    "    },\n",
    "    ...\n",
    "]\n",
    "\n",
    "def map_channels(grid, mol, funcs=[lambda atom, mol, grid, chans: atom.GetPartialCharge()]):\n",
    "    # Create N = len(funcs) channels for a single mol via:\n",
    "    # # return --> channels = [grid1,grid2,grid3,...].shape(N) where each grid is an embedding \n",
    "    # # of mol calculated by applying to mol the corresponding atom descriptor for that channel. \n",
    "    chans = []\n",
    "    for fxn in funcs:\n",
    "        for atom in mol.GetAtoms():\n",
    "            x,y,z = mol.GetCoords(atom)\n",
    "            if grid.IsInGrid(x, y, z):\n",
    "                grid.SetValue(x, y, z, fxn(atom, mol, grid, chans))\n",
    "    return chans\n",
    "\n",
    "def embed_channels(mols, embeddings):\n",
    "    map_chans()"
   ]
  },
  {
   "cell_type": "code",
   "execution_count": null,
   "metadata": {},
   "outputs": [],
   "source": [
    "# # Need to consider this workflow https://docs.eyesopen.com/toolkits/python/oechemtk/grids.html\n",
    "# grid = oegrid.OEScalarGrid()\n",
    "# oegrid.OEMakeMolecularGaussianGrid(grid, mol, 0.5)"
   ]
  }
 ],
 "metadata": {
  "kernelspec": {
   "display_name": "Python 3",
   "language": "python",
   "name": "python3"
  },
  "language_info": {
   "codemirror_mode": {
    "name": "ipython",
    "version": 3
   },
   "file_extension": ".py",
   "mimetype": "text/x-python",
   "name": "python",
   "nbconvert_exporter": "python",
   "pygments_lexer": "ipython3",
   "version": "3.7.5"
  }
 },
 "nbformat": 4,
 "nbformat_minor": 4
}
