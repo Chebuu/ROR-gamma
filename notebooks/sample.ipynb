{
 "cells": [
  {
   "cell_type": "code",
   "execution_count": null,
   "metadata": {},
   "outputs": [],
   "source": [
    "# TODO::\n",
    "# - Specifying multiple columns in frac will yield duplicates in fout\n",
    "#     - Check if row indices already exist before appending\n",
    "\n",
    "def sample_frac(df, size, frac):\n",
    "    # Return DataFrame sampled from df according to distribution in frac\n",
    "    # frac = {'<column_name>': {'<category>': <sample_fraction>}}\n",
    "    # frac = {'PUBCHEM_ACTIVITY_OUTCOME':{'Active':.5,'Inactive':.5}}\n",
    "    fout = []\n",
    "    fcols = frac.keys()\n",
    "    for fi in fcols:\n",
    "        fcats = frac[fi].keys()\n",
    "        for fj in fcats:\n",
    "            n = size * frac[fi][fj]\n",
    "            samp = df[df[fi] == fj].sample(int(n))\n",
    "            fout.append(samp)\n",
    "    return pd.concat(fout)\n",
    "\n",
    "\n",
    "def sample_frac_max(df, frac):\n",
    "    # Return largest sample that respects contraints in frac\n",
    "    # frac = {'<column_name>': {'<category>': <sample_fraction>}}\n",
    "    # frac = {'PUBCHEM_ACTIVITY_OUTCOME':{'Active':.5,'Inactive':.5}}\n",
    "    nmin = len(df); fmin = float()\n",
    "    fcols = frac.keys()\n",
    "    for fi in fcols:\n",
    "        fcats = frac[fi].keys()\n",
    "        for fj in fcats:\n",
    "            if nmin > len(df[df[fi] == fj]):\n",
    "                nmin = len(df[df[fi] == fj])\n",
    "                fmin = frac[fi][fj]\n",
    "    size = int(nmin + ((1-fmin) * nmin / fmin))\n",
    "    return sample_frac(df, size, frac)\n"
   ]
  }
 ],
 "metadata": {
  "kernelspec": {
   "display_name": "Python 3",
   "language": "python",
   "name": "python3"
  },
  "language_info": {
   "codemirror_mode": {
    "name": "ipython",
    "version": 3
   },
   "file_extension": ".py",
   "mimetype": "text/x-python",
   "name": "python",
   "nbconvert_exporter": "python",
   "pygments_lexer": "ipython3",
   "version": "3.7.1"
  }
 },
 "nbformat": 4,
 "nbformat_minor": 4
}
