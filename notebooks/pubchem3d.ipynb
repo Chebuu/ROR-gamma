{
 "cells": [
  {
   "cell_type": "code",
   "execution_count": null,
   "metadata": {},
   "outputs": [],
   "source": [
    "# https://pubchemdocs.ncbi.nlm.nih.gov/pubchem3d\n",
    "# ftp://ftp.ncbi.nlm.nih.gov/pubchem/Compound_3D/01_conf_per_cmpd/SDF/\n",
    "# ftp://ftp.ncbi.nlm.nih.gov/pubchem/Compound_3D/10_conf_per_cmpd/SDF/\n",
    "\n",
    "To minimize hd usage and server load:\n",
    "1. Sort all CIDs in the dataset\n",
    "2. Download all .sdf file *names* from the FTP site\n",
    "3. Group CIDs by the corresponding .sdf file\n",
    "4. For each group\n",
    "    - Download the corresponding .sdf file\n",
    "    - Extract conformers for each CID\n",
    "    - Delete the .sdf file\n",
    "    - Save conformers to disk"
   ]
  },
  {
   "cell_type": "code",
   "execution_count": null,
   "metadata": {},
   "outputs": [],
   "source": [
    "# from pybel import readstring\n",
    "from rdkit.Chem.PandasTools import LoadSDF\n",
    "from ftplib import FTP\n",
    "from tempfile import NamedTemporaryFile\n",
    "from os.path import basename\n",
    "import re\n",
    "\n",
    "def _start_session(host):\n",
    "    sess = FTP(host); sess.login()\n",
    "    return sess\n",
    "\n",
    "def _construct_path(n10=False):\n",
    "    return '/pubchem/Compound_3D/' + ('10' if n10 else '01') + '_conf_per_cmpd/SDF'\n",
    "\n",
    "def _fetch_sdf_paths(n10=False):\n",
    "    sdf_path = _construct_path(n10)\n",
    "    sess = _start_session('ftp.ncbi.nlm.nih.gov')\n",
    "    sdf_paths = sess.nlst(sdf_path)\n",
    "    return sdf_paths\n",
    "\n",
    "def _extract_cid_ranges(fpaths):\n",
    "    def cid_range(fname):\n",
    "        groups = re.match(r'([0-9]+)_([0-9]+)', fname)\n",
    "        rmin = groups.group(1)\n",
    "        rmax = groups.group(2)\n",
    "        return [rmin,rmax,fname]\n",
    "    sdf_files = [basename(p) for p in fpaths]\n",
    "    cid_ranges = [cid_range(fname) for fname in sdf_files]\n",
    "    return cid_ranges\n",
    "\n",
    "def _group_cids(cids, ranges):\n",
    "    cid_groups = dict()\n",
    "    for c in cids:\n",
    "        for r in ranges:\n",
    "            rmin = r[0]\n",
    "            rmax = r[1]\n",
    "            fname = r[2]\n",
    "            if c >= rmin and c <= rmax:\n",
    "                cid_groups.setdefault(fname, []).append(c) \n",
    "                break\n",
    "    return cid_groups\n",
    "\n",
    "def _fetch_sdf(fname, n10=False):\n",
    "    cmd = 'RETR ' + fname\n",
    "    fpath = _construct_path(n10)\n",
    "    sess = _start_session('ftp.ncbi.nlm.nih.gov')\n",
    "    sess.cwd(fpath)\n",
    "    with open('temp.sdf.gz', 'w+', encoding='utf-8') as temp:\n",
    "        # TODO: The file is downloaded as gzip compressed\n",
    "        sess.retrlines(cmd, temp.write)\n",
    "        res_sdf = LoadSDF('temp.sdf', embedProps=True)\n",
    "    return res_sdf\n",
    "\n",
    "def fetch3D(cids, n10=False):\n",
    "    base_path = _construct_path(n10)\n",
    "    sdf_paths = _fetch_sdf_paths(n10)\n",
    "    cid_ranges = _extract_cid_ranges(sdf_paths)\n",
    "    cid_groups = _group_cids(sorted(cids), cid_ranges)\n",
    "    cid_frames = pd.DataFrame(ID=cids)\n",
    "    for sdf,members in cid_groups.items():\n",
    "        abs_path = base_path + '/' + sdf\n",
    "        res_sdf = _fetch_sdf(abs_path)\n",
    "        cid_match = res_sdf[res_sdf.ID.isin[members]]\n",
    "        cid_frames = pd.merge(cid_frames, cid_match, on='ID', how='right')\n",
    "    return cid_frames"
   ]
  },
  {
   "cell_type": "code",
   "execution_count": null,
   "metadata": {},
   "outputs": [],
   "source": [
    "fetch3D(['1450078'])"
   ]
  },
  {
   "cell_type": "code",
   "execution_count": null,
   "metadata": {},
   "outputs": [],
   "source": [
    "from os.path import basename\n",
    "basename('pubchem/Compound_3D/01_conf_per_cmpd/SDF/04550001_04575000.sdf.gz')"
   ]
  },
  {
   "cell_type": "code",
   "execution_count": null,
   "metadata": {},
   "outputs": [],
   "source": [
    "import re\n",
    "mm = re.match(r'(\\d{8})_(\\d{8})', basename('pubchem/Compound_3D/01_conf_per_cmpd/SDF/04550001_04575000.sdf.gz'))\n",
    "mm.group(0)"
   ]
  },
  {
   "cell_type": "code",
   "execution_count": null,
   "metadata": {},
   "outputs": [],
   "source": [
    "x = [] + ['hi']\n",
    "x.extend([''])\n",
    "x"
   ]
  },
  {
   "cell_type": "code",
   "execution_count": null,
   "metadata": {},
   "outputs": [],
   "source": [
    "[] + [['hi']]"
   ]
  },
  {
   "cell_type": "code",
   "execution_count": null,
   "metadata": {},
   "outputs": [],
   "source": [
    "' '.join(['1,2,3,4', '4567'])"
   ]
  },
  {
   "cell_type": "code",
   "execution_count": null,
   "metadata": {},
   "outputs": [],
   "source": [
    "xx = LoadSDF('temp.sdf')"
   ]
  },
  {
   "cell_type": "code",
   "execution_count": null,
   "metadata": {},
   "outputs": [],
   "source": [
    "xx"
   ]
  },
  {
   "cell_type": "code",
   "execution_count": null,
   "metadata": {},
   "outputs": [],
   "source": []
  }
 ],
 "metadata": {
  "kernelspec": {
   "display_name": "Python 3",
   "language": "python",
   "name": "python3"
  },
  "language_info": {
   "codemirror_mode": {
    "name": "ipython",
    "version": 3
   },
   "file_extension": ".py",
   "mimetype": "text/x-python",
   "name": "python",
   "nbconvert_exporter": "python",
   "pygments_lexer": "ipython3",
   "version": "3.7.1"
  }
 },
 "nbformat": 4,
 "nbformat_minor": 4
}
