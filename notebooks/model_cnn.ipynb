{
 "cells": [
  {
   "cell_type": "code",
   "execution_count": null,
   "metadata": {},
   "outputs": [],
   "source": [
    "from tensorflow import keras"
   ]
  },
  {
   "cell_type": "code",
   "execution_count": null,
   "metadata": {},
   "outputs": [],
   "source": [
    "class Test_Model(object):\n",
    "    def __init__(self, input_shape, hidden_size, output_size, data_format='channels_first'):\n",
    "        model = keras.models.Sequential([\n",
    "            keras.layers.Conv3D(1, (4, 4, 4), data_format=data_format),\n",
    "            keras.layers.GlobalAvgPool3D(data_format=data_format),\n",
    "            keras.layers.Dense(hidden_size, activation='relu'),\n",
    "            keras.layers.Dense(output_size, activation='softmax')])\n",
    "        model.compile(\n",
    "            optimizer=keras.optimizers.RMSprop(0.005, clipvalue=0.5),\n",
    "            loss='mean_squared_error',\n",
    "            metrics=['acc'])\n",
    "        self.model = model\n",
    "    def train(self, x, y, epochs=10):\n",
    "        return self.model.fit(x, y, epochs=epochs)\n",
    "    def test(self, x, y):\n",
    "        return self.model.evaluate(x, y)"
   ]
  }
 ],
 "metadata": {
  "kernelspec": {
   "display_name": "Python 3",
   "language": "python",
   "name": "python3"
  },
  "language_info": {
   "codemirror_mode": {
    "name": "ipython",
    "version": 3
   },
   "file_extension": ".py",
   "mimetype": "text/x-python",
   "name": "python",
   "nbconvert_exporter": "python",
   "pygments_lexer": "ipython3",
   "version": "3.6.6"
  }
 },
 "nbformat": 4,
 "nbformat_minor": 4
}
